{
  "cells": [
    {
      "cell_type": "markdown",
      "metadata": {
        "id": "za1gVNL5CRGY"
      },
      "source": [
        "# AI Chatbot in Python\n",
        "> Chatbot sederhana ini menggunakan konsep sederhana penerapan Cosine Similarity\n",
        "\n",
        "> Disini program Chatbot dibuat dengan sesuai kebutuhan pengguna, jadi kita bisa memilih apakah harus membuat program ini bisa bekerja pada topik tertentu, misalnya untuk Chatbot berbasis Covid-19, atau yang lainnya yang sedang relevan."
      ]
    },
    {
      "cell_type": "code",
      "execution_count": null,
      "metadata": {
        "id": "yE4rWjtACRGf"
      },
      "outputs": [],
      "source": [
        "#sumber materi : https://towardsdatascience.com/making-a-simple-and-fast-chatbot-in-10-minutes-2d84a4ba35e\n",
        "#https://youtu.be/9KZwRBg4-P0"
      ]
    },
    {
      "cell_type": "code",
      "source": [
        "from google.colab import drive\n",
        "drive.mount('/content/drive')"
      ],
      "metadata": {
        "colab": {
          "base_uri": "https://localhost:8080/",
          "height": 362
        },
        "id": "RgWI95Za4MxK",
        "outputId": "ce127a17-06d4-4a34-8a96-e9bc54513d29"
      },
      "execution_count": null,
      "outputs": [
        {
          "output_type": "error",
          "ename": "MessageError",
          "evalue": "ignored",
          "traceback": [
            "\u001b[0;31m---------------------------------------------------------------------------\u001b[0m",
            "\u001b[0;31mMessageError\u001b[0m                              Traceback (most recent call last)",
            "\u001b[0;32m<ipython-input-3-d5df0069828e>\u001b[0m in \u001b[0;36m<module>\u001b[0;34m()\u001b[0m\n\u001b[1;32m      1\u001b[0m \u001b[0;32mfrom\u001b[0m \u001b[0mgoogle\u001b[0m\u001b[0;34m.\u001b[0m\u001b[0mcolab\u001b[0m \u001b[0;32mimport\u001b[0m \u001b[0mdrive\u001b[0m\u001b[0;34m\u001b[0m\u001b[0;34m\u001b[0m\u001b[0m\n\u001b[0;32m----> 2\u001b[0;31m \u001b[0mdrive\u001b[0m\u001b[0;34m.\u001b[0m\u001b[0mmount\u001b[0m\u001b[0;34m(\u001b[0m\u001b[0;34m'/content/drive'\u001b[0m\u001b[0;34m)\u001b[0m\u001b[0;34m\u001b[0m\u001b[0;34m\u001b[0m\u001b[0m\n\u001b[0m",
            "\u001b[0;32m/usr/local/lib/python3.7/dist-packages/google/colab/drive.py\u001b[0m in \u001b[0;36mmount\u001b[0;34m(mountpoint, force_remount, timeout_ms)\u001b[0m\n\u001b[1;32m    107\u001b[0m       \u001b[0mforce_remount\u001b[0m\u001b[0;34m=\u001b[0m\u001b[0mforce_remount\u001b[0m\u001b[0;34m,\u001b[0m\u001b[0;34m\u001b[0m\u001b[0;34m\u001b[0m\u001b[0m\n\u001b[1;32m    108\u001b[0m       \u001b[0mtimeout_ms\u001b[0m\u001b[0;34m=\u001b[0m\u001b[0mtimeout_ms\u001b[0m\u001b[0;34m,\u001b[0m\u001b[0;34m\u001b[0m\u001b[0;34m\u001b[0m\u001b[0m\n\u001b[0;32m--> 109\u001b[0;31m       ephemeral=True)\n\u001b[0m\u001b[1;32m    110\u001b[0m \u001b[0;34m\u001b[0m\u001b[0m\n\u001b[1;32m    111\u001b[0m \u001b[0;34m\u001b[0m\u001b[0m\n",
            "\u001b[0;32m/usr/local/lib/python3.7/dist-packages/google/colab/drive.py\u001b[0m in \u001b[0;36m_mount\u001b[0;34m(mountpoint, force_remount, timeout_ms, ephemeral)\u001b[0m\n\u001b[1;32m    126\u001b[0m   \u001b[0;32mif\u001b[0m \u001b[0mephemeral\u001b[0m\u001b[0;34m:\u001b[0m\u001b[0;34m\u001b[0m\u001b[0;34m\u001b[0m\u001b[0m\n\u001b[1;32m    127\u001b[0m     _message.blocking_request(\n\u001b[0;32m--> 128\u001b[0;31m         'request_auth', request={'authType': 'dfs_ephemeral'}, timeout_sec=None)\n\u001b[0m\u001b[1;32m    129\u001b[0m \u001b[0;34m\u001b[0m\u001b[0m\n\u001b[1;32m    130\u001b[0m   \u001b[0mmountpoint\u001b[0m \u001b[0;34m=\u001b[0m \u001b[0m_os\u001b[0m\u001b[0;34m.\u001b[0m\u001b[0mpath\u001b[0m\u001b[0;34m.\u001b[0m\u001b[0mexpanduser\u001b[0m\u001b[0;34m(\u001b[0m\u001b[0mmountpoint\u001b[0m\u001b[0;34m)\u001b[0m\u001b[0;34m\u001b[0m\u001b[0;34m\u001b[0m\u001b[0m\n",
            "\u001b[0;32m/usr/local/lib/python3.7/dist-packages/google/colab/_message.py\u001b[0m in \u001b[0;36mblocking_request\u001b[0;34m(request_type, request, timeout_sec, parent)\u001b[0m\n\u001b[1;32m    173\u001b[0m   request_id = send_request(\n\u001b[1;32m    174\u001b[0m       request_type, request, parent=parent, expect_reply=True)\n\u001b[0;32m--> 175\u001b[0;31m   \u001b[0;32mreturn\u001b[0m \u001b[0mread_reply_from_input\u001b[0m\u001b[0;34m(\u001b[0m\u001b[0mrequest_id\u001b[0m\u001b[0;34m,\u001b[0m \u001b[0mtimeout_sec\u001b[0m\u001b[0;34m)\u001b[0m\u001b[0;34m\u001b[0m\u001b[0;34m\u001b[0m\u001b[0m\n\u001b[0m",
            "\u001b[0;32m/usr/local/lib/python3.7/dist-packages/google/colab/_message.py\u001b[0m in \u001b[0;36mread_reply_from_input\u001b[0;34m(message_id, timeout_sec)\u001b[0m\n\u001b[1;32m    104\u001b[0m         reply.get('colab_msg_id') == message_id):\n\u001b[1;32m    105\u001b[0m       \u001b[0;32mif\u001b[0m \u001b[0;34m'error'\u001b[0m \u001b[0;32min\u001b[0m \u001b[0mreply\u001b[0m\u001b[0;34m:\u001b[0m\u001b[0;34m\u001b[0m\u001b[0;34m\u001b[0m\u001b[0m\n\u001b[0;32m--> 106\u001b[0;31m         \u001b[0;32mraise\u001b[0m \u001b[0mMessageError\u001b[0m\u001b[0;34m(\u001b[0m\u001b[0mreply\u001b[0m\u001b[0;34m[\u001b[0m\u001b[0;34m'error'\u001b[0m\u001b[0;34m]\u001b[0m\u001b[0;34m)\u001b[0m\u001b[0;34m\u001b[0m\u001b[0;34m\u001b[0m\u001b[0m\n\u001b[0m\u001b[1;32m    107\u001b[0m       \u001b[0;32mreturn\u001b[0m \u001b[0mreply\u001b[0m\u001b[0;34m.\u001b[0m\u001b[0mget\u001b[0m\u001b[0;34m(\u001b[0m\u001b[0;34m'data'\u001b[0m\u001b[0;34m,\u001b[0m \u001b[0;32mNone\u001b[0m\u001b[0;34m)\u001b[0m\u001b[0;34m\u001b[0m\u001b[0;34m\u001b[0m\u001b[0m\n\u001b[1;32m    108\u001b[0m \u001b[0;34m\u001b[0m\u001b[0m\n",
            "\u001b[0;31mMessageError\u001b[0m: Error: credential propagation was unsuccessful"
          ]
        }
      ]
    },
    {
      "cell_type": "markdown",
      "metadata": {
        "id": "YZW2gMYW-ZBR"
      },
      "source": [
        "# Tools scraping Artikel\n",
        "\n",
        "Pada program kali ini kita akan mengambil teks dari internet menggunakan tools newspaper3k, dimana tools ini memiliki beberapa kelebihan yaitu:\n",
        "1. Kerangka kerja dalam mengunduh artikel yang multi-thread\n",
        "2. Dapat mengidentifikasi URL baru\n",
        "3. Mampu mengekstraksi teks dari HTML\n",
        "4. Terbaik dalam hal ekstraksi gambar dari HTML\n",
        "5. Mampu mengekstraksi semua gambar dari HTML\n",
        "6. Dapat mengekstraksi kata kunci dari teks\n",
        "7. Dapat mengekstrak ringkasan teks\n",
        "8. Dapat mengekstraksi nama penulis suatu artikel\n",
        "9. Dapat mengekstraksi istilah yang sedang trend di mesin pencarian Google\n",
        "10. Dapat bekerja lebih dari 10 bahasa (termasuk Inggris, Jerman, Arab, China, dll)"
      ]
    },
    {
      "cell_type": "code",
      "execution_count": null,
      "metadata": {
        "id": "Q9_mnPq6NPUy",
        "colab": {
          "base_uri": "https://localhost:8080/"
        },
        "outputId": "4ed5bc14-e72a-4a08-cbe7-737f5df03f08"
      },
      "outputs": [
        {
          "output_type": "stream",
          "name": "stdout",
          "text": [
            "Collecting gtts\n",
            "  Downloading gTTS-2.2.4-py3-none-any.whl (26 kB)\n",
            "Requirement already satisfied: requests in /usr/local/lib/python3.7/dist-packages (from gtts) (2.23.0)\n",
            "Requirement already satisfied: six in /usr/local/lib/python3.7/dist-packages (from gtts) (1.15.0)\n",
            "Requirement already satisfied: click in /usr/local/lib/python3.7/dist-packages (from gtts) (7.1.2)\n",
            "Requirement already satisfied: certifi>=2017.4.17 in /usr/local/lib/python3.7/dist-packages (from requests->gtts) (2021.10.8)\n",
            "Requirement already satisfied: urllib3!=1.25.0,!=1.25.1,<1.26,>=1.21.1 in /usr/local/lib/python3.7/dist-packages (from requests->gtts) (1.24.3)\n",
            "Requirement already satisfied: idna<3,>=2.5 in /usr/local/lib/python3.7/dist-packages (from requests->gtts) (2.10)\n",
            "Requirement already satisfied: chardet<4,>=3.0.2 in /usr/local/lib/python3.7/dist-packages (from requests->gtts) (3.0.4)\n",
            "Installing collected packages: gtts\n",
            "Successfully installed gtts-2.2.4\n"
          ]
        }
      ],
      "source": [
        "!pip install gtts"
      ]
    },
    {
      "cell_type": "code",
      "execution_count": null,
      "metadata": {
        "id": "ye3nyhSyCRGi",
        "colab": {
          "base_uri": "https://localhost:8080/"
        },
        "outputId": "bc58fa3b-541e-470a-fa93-00cf4c1862c6"
      },
      "outputs": [
        {
          "output_type": "stream",
          "name": "stdout",
          "text": [
            "Collecting newspaper3k\n",
            "  Downloading newspaper3k-0.2.8-py3-none-any.whl (211 kB)\n",
            "\u001b[?25l\r\u001b[K     |█▌                              | 10 kB 16.2 MB/s eta 0:00:01\r\u001b[K     |███                             | 20 kB 20.8 MB/s eta 0:00:01\r\u001b[K     |████▋                           | 30 kB 11.4 MB/s eta 0:00:01\r\u001b[K     |██████▏                         | 40 kB 9.8 MB/s eta 0:00:01\r\u001b[K     |███████▊                        | 51 kB 4.4 MB/s eta 0:00:01\r\u001b[K     |█████████▎                      | 61 kB 5.2 MB/s eta 0:00:01\r\u001b[K     |██████████▉                     | 71 kB 5.6 MB/s eta 0:00:01\r\u001b[K     |████████████▍                   | 81 kB 4.1 MB/s eta 0:00:01\r\u001b[K     |██████████████                  | 92 kB 4.6 MB/s eta 0:00:01\r\u001b[K     |███████████████▌                | 102 kB 5.0 MB/s eta 0:00:01\r\u001b[K     |█████████████████               | 112 kB 5.0 MB/s eta 0:00:01\r\u001b[K     |██████████████████▋             | 122 kB 5.0 MB/s eta 0:00:01\r\u001b[K     |████████████████████▏           | 133 kB 5.0 MB/s eta 0:00:01\r\u001b[K     |█████████████████████▊          | 143 kB 5.0 MB/s eta 0:00:01\r\u001b[K     |███████████████████████▎        | 153 kB 5.0 MB/s eta 0:00:01\r\u001b[K     |████████████████████████▉       | 163 kB 5.0 MB/s eta 0:00:01\r\u001b[K     |██████████████████████████▍     | 174 kB 5.0 MB/s eta 0:00:01\r\u001b[K     |████████████████████████████    | 184 kB 5.0 MB/s eta 0:00:01\r\u001b[K     |█████████████████████████████▌  | 194 kB 5.0 MB/s eta 0:00:01\r\u001b[K     |███████████████████████████████ | 204 kB 5.0 MB/s eta 0:00:01\r\u001b[K     |████████████████████████████████| 211 kB 5.0 MB/s \n",
            "\u001b[?25hRequirement already satisfied: requests>=2.10.0 in /usr/local/lib/python3.7/dist-packages (from newspaper3k) (2.23.0)\n",
            "Requirement already satisfied: Pillow>=3.3.0 in /usr/local/lib/python3.7/dist-packages (from newspaper3k) (7.1.2)\n",
            "Requirement already satisfied: python-dateutil>=2.5.3 in /usr/local/lib/python3.7/dist-packages (from newspaper3k) (2.8.2)\n",
            "Collecting feedfinder2>=0.0.4\n",
            "  Downloading feedfinder2-0.0.4.tar.gz (3.3 kB)\n",
            "Requirement already satisfied: PyYAML>=3.11 in /usr/local/lib/python3.7/dist-packages (from newspaper3k) (3.13)\n",
            "Collecting jieba3k>=0.35.1\n",
            "  Downloading jieba3k-0.35.1.zip (7.4 MB)\n",
            "\u001b[K     |████████████████████████████████| 7.4 MB 19.7 MB/s \n",
            "\u001b[?25hCollecting tldextract>=2.0.1\n",
            "  Downloading tldextract-3.2.0-py3-none-any.whl (87 kB)\n",
            "\u001b[K     |████████████████████████████████| 87 kB 5.7 MB/s \n",
            "\u001b[?25hRequirement already satisfied: beautifulsoup4>=4.4.1 in /usr/local/lib/python3.7/dist-packages (from newspaper3k) (4.6.3)\n",
            "Collecting tinysegmenter==0.3\n",
            "  Downloading tinysegmenter-0.3.tar.gz (16 kB)\n",
            "Requirement already satisfied: lxml>=3.6.0 in /usr/local/lib/python3.7/dist-packages (from newspaper3k) (4.2.6)\n",
            "Collecting cssselect>=0.9.2\n",
            "  Downloading cssselect-1.1.0-py2.py3-none-any.whl (16 kB)\n",
            "Requirement already satisfied: nltk>=3.2.1 in /usr/local/lib/python3.7/dist-packages (from newspaper3k) (3.2.5)\n",
            "Collecting feedparser>=5.2.1\n",
            "  Downloading feedparser-6.0.8-py3-none-any.whl (81 kB)\n",
            "\u001b[K     |████████████████████████████████| 81 kB 8.0 MB/s \n",
            "\u001b[?25hRequirement already satisfied: six in /usr/local/lib/python3.7/dist-packages (from feedfinder2>=0.0.4->newspaper3k) (1.15.0)\n",
            "Collecting sgmllib3k\n",
            "  Downloading sgmllib3k-1.0.0.tar.gz (5.8 kB)\n",
            "Requirement already satisfied: chardet<4,>=3.0.2 in /usr/local/lib/python3.7/dist-packages (from requests>=2.10.0->newspaper3k) (3.0.4)\n",
            "Requirement already satisfied: certifi>=2017.4.17 in /usr/local/lib/python3.7/dist-packages (from requests>=2.10.0->newspaper3k) (2021.10.8)\n",
            "Requirement already satisfied: urllib3!=1.25.0,!=1.25.1,<1.26,>=1.21.1 in /usr/local/lib/python3.7/dist-packages (from requests>=2.10.0->newspaper3k) (1.24.3)\n",
            "Requirement already satisfied: idna<3,>=2.5 in /usr/local/lib/python3.7/dist-packages (from requests>=2.10.0->newspaper3k) (2.10)\n",
            "Requirement already satisfied: filelock>=3.0.8 in /usr/local/lib/python3.7/dist-packages (from tldextract>=2.0.1->newspaper3k) (3.6.0)\n",
            "Collecting requests-file>=1.4\n",
            "  Downloading requests_file-1.5.1-py2.py3-none-any.whl (3.7 kB)\n",
            "Building wheels for collected packages: tinysegmenter, feedfinder2, jieba3k, sgmllib3k\n",
            "  Building wheel for tinysegmenter (setup.py) ... \u001b[?25l\u001b[?25hdone\n",
            "  Created wheel for tinysegmenter: filename=tinysegmenter-0.3-py3-none-any.whl size=13553 sha256=2715790101133ca5892708638f29e289dd0974871f675f112486fa068cbd868b\n",
            "  Stored in directory: /root/.cache/pip/wheels/df/67/41/faca10fa501ca010be41b49d40360c2959e1c4f09bcbfa37fa\n",
            "  Building wheel for feedfinder2 (setup.py) ... \u001b[?25l\u001b[?25hdone\n",
            "  Created wheel for feedfinder2: filename=feedfinder2-0.0.4-py3-none-any.whl size=3357 sha256=d4cf3aee8b2792b284a7e9037b9e4aa5d922f281cda01280794b0fef6f9d478b\n",
            "  Stored in directory: /root/.cache/pip/wheels/7f/d4/8f/6e2ca54744c9d7292d88ddb8d42876bcdab5e6d84a21c10346\n",
            "  Building wheel for jieba3k (setup.py) ... \u001b[?25l\u001b[?25hdone\n",
            "  Created wheel for jieba3k: filename=jieba3k-0.35.1-py3-none-any.whl size=7398404 sha256=c557ae1ccf71933ad7c9f479b9936deb3c9a87a3d196e4451c69a2dec87b1f95\n",
            "  Stored in directory: /root/.cache/pip/wheels/4c/91/46/3c208287b726df325a5979574324878b679116e4baae1af3c3\n",
            "  Building wheel for sgmllib3k (setup.py) ... \u001b[?25l\u001b[?25hdone\n",
            "  Created wheel for sgmllib3k: filename=sgmllib3k-1.0.0-py3-none-any.whl size=6066 sha256=440e09160996644817a743c978b0d8905220dcaee736d0a75b012ae2bea07190\n",
            "  Stored in directory: /root/.cache/pip/wheels/73/ad/a4/0dff4a6ef231fc0dfa12ffbac2a36cebfdddfe059f50e019aa\n",
            "Successfully built tinysegmenter feedfinder2 jieba3k sgmllib3k\n",
            "Installing collected packages: sgmllib3k, requests-file, tldextract, tinysegmenter, jieba3k, feedparser, feedfinder2, cssselect, newspaper3k\n",
            "Successfully installed cssselect-1.1.0 feedfinder2-0.0.4 feedparser-6.0.8 jieba3k-0.35.1 newspaper3k-0.2.8 requests-file-1.5.1 sgmllib3k-1.0.0 tinysegmenter-0.3 tldextract-3.2.0\n"
          ]
        }
      ],
      "source": [
        "!pip install newspaper3k"
      ]
    },
    {
      "cell_type": "code",
      "execution_count": null,
      "metadata": {
        "id": "4FGmgeEECRGi"
      },
      "outputs": [],
      "source": [
        "# Import library\n",
        "from newspaper import Article\n",
        "import random\n",
        "import nltk \n",
        "import string\n",
        "from sklearn.feature_extraction.text import CountVectorizer\n",
        "from sklearn.metrics.pairwise import cosine_similarity\n",
        "import numpy as np\n",
        "import pandas as pd\n",
        "import warnings\n",
        "import re \n",
        "warnings.filterwarnings('ignore')\n",
        "\n",
        "from gtts import gTTS\n",
        "import IPython.display as ipd\n",
        "import time\n",
        "from io import BytesIO"
      ]
    },
    {
      "cell_type": "code",
      "execution_count": null,
      "metadata": {
        "id": "Sa8BD2nwCRGj",
        "colab": {
          "base_uri": "https://localhost:8080/"
        },
        "outputId": "e3629ef7-581a-4234-8cef-e86a0752b622"
      },
      "outputs": [
        {
          "output_type": "execute_result",
          "data": {
            "text/plain": [
              "True"
            ]
          },
          "metadata": {},
          "execution_count": 4
        }
      ],
      "source": [
        "nltk.download('punkt', quiet=True)"
      ]
    },
    {
      "cell_type": "code",
      "source": [
        "nltk.download('names', quiet=True)"
      ],
      "metadata": {
        "id": "johAi98B8lB5",
        "colab": {
          "base_uri": "https://localhost:8080/"
        },
        "outputId": "4f97909c-e318-48ca-9d22-3899fae78110"
      },
      "execution_count": null,
      "outputs": [
        {
          "output_type": "execute_result",
          "data": {
            "text/plain": [
              "True"
            ]
          },
          "metadata": {},
          "execution_count": 5
        }
      ]
    },
    {
      "cell_type": "markdown",
      "metadata": {
        "id": "LTnOWF68CRGk"
      },
      "source": [
        "# Proses 1 (Membuat korpus dengan mendownload artikel dari sebuah link)\n",
        "\n",
        "Link dapat diganti dengan link teks berbhasa Indonesia, tetapi kali ini kita mencoba menggunakan teks berbahasa Inggris terlebih dahulu. "
      ]
    },
    {
      "cell_type": "code",
      "execution_count": null,
      "metadata": {
        "id": "otZH3R0eCRGk",
        "colab": {
          "base_uri": "https://localhost:8080/"
        },
        "outputId": "5b6d2e6b-8ec9-4fdf-b2a6-241020fb66d6"
      },
      "outputs": [
        {
          "output_type": "stream",
          "name": "stdout",
          "text": [
            "Learn more from kidney doctor Andrew Bentall, M.D.\n",
            "\n",
            "I'm Dr. Andrew Bentall, a kidney doctor at Mayo Clinic. I look after patients with kidney disease, either in the early stages, or with more advanced kidney disease considering dialysis and transplantation as treatment options. In this video, we'll cover the basics of chronic kidney disease. What is it? Who gets it? The symptoms, diagnosis and treatment. Whether you are looking for answers for yourself or for someone you love, we're here to give you the best information available.\n",
            "\n",
            "Chronic kidney disease is a disease characterized by progressive damage and loss of function in the kidneys. It's estimated that chronic kidney disease affects about one in seven American adults. And most of those don't know they have it. Before we get into the disease itself, let's talk a little bit about the kidneys and what they do. Our kidneys play many important roles keeping our bodies in balance. They remove waste and toxins, excess water from the bloodstream, which is carried out of the body in urine. They helped to make hormones to produce red blood cells, and they turn vitamin D into its active form, so it's usable in the body.\n",
            "\n",
            "There are quite a few things that can cause or put you at higher risk for chronic kidney disease. Some of them are not things that can be avoided. Your risk is simply higher if you have a family history of certain genetic conditions like polycystic kidney disease or some autoimmune diseases like lupus or IgA nephropathy. Defects in the kidney structure can also cause your kidneys to fail, and you have an increased risk as you get older. Sometimes, other common medical conditions can increase your risk. Diabetes is the most common cause of kidney disease. Both type 1 and type 2 diabetes. But also heart disease and obesity can contribute to the damage that causes kidneys to fail. Urinary tract issues and inflammation in different parts of the kidney can also lead to long-term functional decline. There are things that are more under our control: Heavy or long-term use of certain medications, even those that are common over-the-counter. Smoking can also be a contributing factor to chronic kidney disease.\n",
            "\n",
            "Often there are no outward signs in the earlier stages of chronic kidney disease, which is grouped into stages 1 through 5. Generally, earlier stages are known as 1 to 3. And as kidney disease progresses, you may notice the following symptoms. Nausea and vomiting, muscle cramps, loss of appetite, swelling via feet and ankles, dry, itchy skin, shortness of breath, trouble sleeping, urinating either too much or too little. However, these are usually in the later stages, but they can also happen in other disorders. So don't automatically interpret this as having kidney disease. But if you're experiencing anything that concerns you, you should make an appointment with your doctor.\n",
            "\n",
            "Even before any symptoms appear, routine blood work can indicate that you might be in the early stages of chronic kidney disease. And the earlier it's detected, the easier it is to treat. This is why regular checkups with your doctor are important. If your doctor suspects the onset of chronic kidney disease, they may schedule a variety of other tests. They may also refer you to a kidney specialist, a nephrologist like myself. Urine tests can reveal abnormalities and give clues to the underlying cause of the chronic kidney disease. And this can also help to determine the underlying issues. Various imaging tests like ultrasounds or CT scans can be done to help your doctor assess the size, the structure, as well as evaluate the visible damage, inflammation or stones of your kidneys. And in some cases, a kidney biopsy may be necessary. And a small amount of tissue is taken with a needle and sent to the pathologist for further analysis.\n",
            "\n",
            "Treatment is determined by what is causing your kidneys to not function normally. Treating the cause is key, leading to reduced complications and slowing progression of kidney disease. For example, getting better blood pressure control, improved sugar control and diabetes, and reducing weight are often key interventions. However, existing damage is not usually reversible. In some conditions, treatment can reverse the cause of the disease. So seeking medical review is really important. Individual complications vary, but treatment might include high blood pressure medication, diuretics to reduce fluid and swelling, supplements to relieve anemia, statins to lower cholesterol, or medications to protect your bones and prevent blood vessel calcification. A lower-protein diet may also be recommended. It reduces the amount of waste your kidneys need to filter from your blood. These can not only slow the damage of kidney disease, but make you feel better as well. When the damage has progressed to the point that 85 to 90 percent of your kidney function is gone, and they no longer work well enough to keep you alive, it's called end-stage kidney failure. But there are still options. There's dialysis, which uses a machine to filter the toxins and remove water from your body as your kidneys are no longer able to do this. Where possible, the preferred therapy is a kidney transplant. While an organ transplant can sound daunting, it's actually often the better alternative, and the closest thing to a cure, if you qualify for a kidney transplant.\n",
            "\n",
            "If you have kidney disease, there are lifestyle choices. Namely quit smoking. Consuming alcohol in moderation. If you're overweight or obese, then try to lose weight. Staying active and getting exercise can help not only with your weight, but fatigue and stress. If your condition allows, keep up with your routine, whether that's working, hobbies, social activities, or other things you enjoy. It can be helpful to talk to someone you trust, a friend or relative who's good at listening. Or your doctor could also refer you to a therapist or social worker. It can also be helpful to find a support group and connect with people going through the same thing. Learning you have chronic kidney disease and learning how to live with it can be a challenge. But there are lots of ways to help you to be more comfortable for longer before more drastic measures are needed. And even then, there is plenty of hope. If you'd like to learn even more about chronic kidney disease, watch our other related videos or visit mayoclinic.org. We wish you well.\n"
          ]
        }
      ],
      "source": [
        "article = Article('https://www.mayoclinic.org/diseases-conditions/chronic-kidney-disease/symptoms-causes/syc-20354521')\n",
        "article.download()\n",
        "article.parse()\n",
        "article.nlp()\n",
        "corpus = article.text\n",
        "print(corpus)"
      ]
    },
    {
      "cell_type": "markdown",
      "metadata": {
        "id": "bGmRAQ9WCRGl"
      },
      "source": [
        "# Proses 2 (Tokenization)"
      ]
    },
    {
      "cell_type": "code",
      "execution_count": null,
      "metadata": {
        "id": "vh1UaZ3kCRGl",
        "colab": {
          "base_uri": "https://localhost:8080/"
        },
        "outputId": "fc59b333-d00d-4815-dbcd-13f073fad644"
      },
      "outputs": [
        {
          "output_type": "stream",
          "name": "stdout",
          "text": [
            "['Learn more from kidney doctor Andrew Bentall, M.D.', \"I'm Dr. Andrew Bentall, a kidney doctor at Mayo Clinic.\", 'I look after patients with kidney disease, either in the early stages, or with more advanced kidney disease considering dialysis and transplantation as treatment options.', \"In this video, we'll cover the basics of chronic kidney disease.\", 'What is it?', 'Who gets it?', 'The symptoms, diagnosis and treatment.', \"Whether you are looking for answers for yourself or for someone you love, we're here to give you the best information available.\", 'Chronic kidney disease is a disease characterized by progressive damage and loss of function in the kidneys.', \"It's estimated that chronic kidney disease affects about one in seven American adults.\", \"And most of those don't know they have it.\", \"Before we get into the disease itself, let's talk a little bit about the kidneys and what they do.\", 'Our kidneys play many important roles keeping our bodies in balance.', 'They remove waste and toxins, excess water from the bloodstream, which is carried out of the body in urine.', \"They helped to make hormones to produce red blood cells, and they turn vitamin D into its active form, so it's usable in the body.\", 'There are quite a few things that can cause or put you at higher risk for chronic kidney disease.', 'Some of them are not things that can be avoided.', 'Your risk is simply higher if you have a family history of certain genetic conditions like polycystic kidney disease or some autoimmune diseases like lupus or IgA nephropathy.', 'Defects in the kidney structure can also cause your kidneys to fail, and you have an increased risk as you get older.', 'Sometimes, other common medical conditions can increase your risk.', 'Diabetes is the most common cause of kidney disease.', 'Both type 1 and type 2 diabetes.', 'But also heart disease and obesity can contribute to the damage that causes kidneys to fail.', 'Urinary tract issues and inflammation in different parts of the kidney can also lead to long-term functional decline.', 'There are things that are more under our control: Heavy or long-term use of certain medications, even those that are common over-the-counter.', 'Smoking can also be a contributing factor to chronic kidney disease.', 'Often there are no outward signs in the earlier stages of chronic kidney disease, which is grouped into stages 1 through 5.', 'Generally, earlier stages are known as 1 to 3.', 'And as kidney disease progresses, you may notice the following symptoms.', 'Nausea and vomiting, muscle cramps, loss of appetite, swelling via feet and ankles, dry, itchy skin, shortness of breath, trouble sleeping, urinating either too much or too little.', 'However, these are usually in the later stages, but they can also happen in other disorders.', \"So don't automatically interpret this as having kidney disease.\", \"But if you're experiencing anything that concerns you, you should make an appointment with your doctor.\", 'Even before any symptoms appear, routine blood work can indicate that you might be in the early stages of chronic kidney disease.', \"And the earlier it's detected, the easier it is to treat.\", 'This is why regular checkups with your doctor are important.', 'If your doctor suspects the onset of chronic kidney disease, they may schedule a variety of other tests.', 'They may also refer you to a kidney specialist, a nephrologist like myself.', 'Urine tests can reveal abnormalities and give clues to the underlying cause of the chronic kidney disease.', 'And this can also help to determine the underlying issues.', 'Various imaging tests like ultrasounds or CT scans can be done to help your doctor assess the size, the structure, as well as evaluate the visible damage, inflammation or stones of your kidneys.', 'And in some cases, a kidney biopsy may be necessary.', 'And a small amount of tissue is taken with a needle and sent to the pathologist for further analysis.', 'Treatment is determined by what is causing your kidneys to not function normally.', 'Treating the cause is key, leading to reduced complications and slowing progression of kidney disease.', 'For example, getting better blood pressure control, improved sugar control and diabetes, and reducing weight are often key interventions.', 'However, existing damage is not usually reversible.', 'In some conditions, treatment can reverse the cause of the disease.', 'So seeking medical review is really important.', 'Individual complications vary, but treatment might include high blood pressure medication, diuretics to reduce fluid and swelling, supplements to relieve anemia, statins to lower cholesterol, or medications to protect your bones and prevent blood vessel calcification.', 'A lower-protein diet may also be recommended.', 'It reduces the amount of waste your kidneys need to filter from your blood.', 'These can not only slow the damage of kidney disease, but make you feel better as well.', \"When the damage has progressed to the point that 85 to 90 percent of your kidney function is gone, and they no longer work well enough to keep you alive, it's called end-stage kidney failure.\", 'But there are still options.', \"There's dialysis, which uses a machine to filter the toxins and remove water from your body as your kidneys are no longer able to do this.\", 'Where possible, the preferred therapy is a kidney transplant.', \"While an organ transplant can sound daunting, it's actually often the better alternative, and the closest thing to a cure, if you qualify for a kidney transplant.\", 'If you have kidney disease, there are lifestyle choices.', 'Namely quit smoking.', 'Consuming alcohol in moderation.', \"If you're overweight or obese, then try to lose weight.\", 'Staying active and getting exercise can help not only with your weight, but fatigue and stress.', \"If your condition allows, keep up with your routine, whether that's working, hobbies, social activities, or other things you enjoy.\", \"It can be helpful to talk to someone you trust, a friend or relative who's good at listening.\", 'Or your doctor could also refer you to a therapist or social worker.', 'It can also be helpful to find a support group and connect with people going through the same thing.', 'Learning you have chronic kidney disease and learning how to live with it can be a challenge.', 'But there are lots of ways to help you to be more comfortable for longer before more drastic measures are needed.', 'And even then, there is plenty of hope.', \"If you'd like to learn even more about chronic kidney disease, watch our other related videos or visit mayoclinic.org.\", 'We wish you well.']\n"
          ]
        }
      ],
      "source": [
        "# Tokenization\n",
        "text = corpus\n",
        "sentence_list = nltk.sent_tokenize(text) #A list of sentences\n",
        "\n",
        "# Print the list of sentences\n",
        "print(sentence_list)"
      ]
    },
    {
      "cell_type": "markdown",
      "metadata": {
        "id": "A0kZDPHxCRGm"
      },
      "source": [
        "# Proses 3 (Bot Response)\n",
        "\n",
        "Bot respon digunakan untuk membuat sebuah percakapan awal antara pengguna dengan bot, jadi disini user dapat menyapa bot, nah untuk kata-kata dapat diganti sesuai dengan kebutuhan, misalnya bahasa indonesia. \n",
        "\n",
        "Pada percakapan awal tidak menggunakan ML atau metode lainnya, program hanya menjawab dengan kata yang di cocokkan sebagai input."
      ]
    },
    {
      "cell_type": "code",
      "execution_count": null,
      "metadata": {
        "id": "qII0gu1dCRGm"
      },
      "outputs": [],
      "source": [
        "#a function to return a random greeting response to a users greeting\n",
        "def greeting_response(text):\n",
        "    text = text.lower()\n",
        "    \n",
        "    #Bots greeting respone\n",
        "    bot_greetings = ['howdy','hi','hello','hola', 'Pagi Juga!', 'Hi! Selamat siang']\n",
        "    \n",
        "    #Users greeting\n",
        "    user_greetings = ['hi','hey','hello','greetings','wassup', 'ola', 'Selamat pagi!', 'siang']\n",
        "    for word in text.split():\n",
        "        if word in user_greetings:\n",
        "            return random.choice(bot_greetings)\n",
        "        \n",
        "    #Random response to greeting\n",
        "    def gratitude_response(text):\n",
        "        text=text.lower()"
      ]
    },
    {
      "cell_type": "markdown",
      "metadata": {
        "id": "AZEgMQCr_HtI"
      },
      "source": [
        "1. Pada list kode bot_greetings itu bentuk kata sapaan bot terhadap sapaan yang kita berikan, dan dapat diganti dengan bahasa Indonesia atau lainnya.\n",
        "2. Sedangkan, pada list user_greetings itu kata sapaan input dari user dan dapat diganti dengan bahasa lainnya."
      ]
    },
    {
      "cell_type": "markdown",
      "metadata": {
        "id": "oTHbuHoO_SXL"
      },
      "source": [
        "# Sorting List"
      ]
    },
    {
      "cell_type": "code",
      "execution_count": null,
      "metadata": {
        "id": "ZQnYG5nQCRGn"
      },
      "outputs": [],
      "source": [
        "def index_sort(list_var):\n",
        "    length = len(list_var)\n",
        "    list_index = list(range(0, length))\n",
        "    \n",
        "    x = list_var        \n",
        "    for i in range(length):\n",
        "        for j in range(length):\n",
        "            if x[list_index[i]] > x[list_index[j]]:\n",
        "                #swap\n",
        "                temp = list_index[i]\n",
        "                list_index[i] = list_index[j]\n",
        "                list_index[j] = temp\n",
        "                \n",
        "    return list_index"
      ]
    },
    {
      "cell_type": "markdown",
      "metadata": {
        "id": "tIuiijdc_YZ2"
      },
      "source": [
        "# Chatbot Respon Menggunakan Cosine Similarity\n",
        "\n",
        "Pada respon bot menggunakan teknis Cosine Similarity untuk menghitung kata yang cocok dengan yang di input user terhadap respon dari Bot"
      ]
    },
    {
      "cell_type": "code",
      "execution_count": null,
      "metadata": {
        "id": "VrBJ58bvCRGn"
      },
      "outputs": [],
      "source": [
        "# Create Bots Response\n",
        "def bot_response(user_input):\n",
        "    user_input=user_input.lower()\n",
        "    sentence_list.append(user_input)\n",
        "    bot_response= ''\n",
        "    cm=CountVectorizer().fit_transform(sentence_list)\n",
        "    similarity_scores=cosine_similarity(cm[-1],cm)\n",
        "    similarity_scores_list=similarity_scores.flatten()\n",
        "    index=index_sort(similarity_scores_list)\n",
        "    index=index[1:]\n",
        "    response_flag=0\n",
        "    \n",
        "    j=0\n",
        "    for i in range(len(index)):\n",
        "        if similarity_scores_list[index[i]]>0.0:\n",
        "            bot_response=bot_response+' '+sentence_list[index[i]]\n",
        "            response_flag=1\n",
        "            j=j+1\n",
        "        if j>2:\n",
        "            break\n",
        "\n",
        "        if response_flag==0:\n",
        "            bot_response=bot_response+\" \"+ \"I apologize, I dont understand!\"\n",
        "\n",
        "        sentence_list.remove(user_input) \n",
        "\n",
        "        return bot_response"
      ]
    },
    {
      "cell_type": "markdown",
      "metadata": {
        "id": "2fvjGhBU_nyk"
      },
      "source": [
        "Pada listing kode >bot_response=bot_response+\" \"+\"I apologize, I dont understand\" pada list kode ini kata I apologize tujuannya untuk memberikan respon karena sistem tidak mengenali kata yang kita input, jadi sebagai bentuk respon bot kepada user. Kata tersebut bisa diganti dengan bahasa Indonesia, misalnya \"Maaf saya tidak mengetahui arti atau tidak mengenali kata-kata yang di input\"."
      ]
    },
    {
      "cell_type": "markdown",
      "metadata": {
        "id": "8-C33RGuCRGo"
      },
      "source": [
        "# Proses 4 (End Process, Making chat box)"
      ]
    },
    {
      "cell_type": "code",
      "execution_count": null,
      "metadata": {
        "id": "7GTB7h9TCRGo",
        "colab": {
          "base_uri": "https://localhost:8080/"
        },
        "outputId": "431241ba-1ad0-41fd-bd04-ea658573acbb"
      },
      "outputs": [
        {
          "output_type": "stream",
          "name": "stdout",
          "text": [
            "Doc Bot: I am DOc bot and I will answer your queries about chronic kidney disease, if you want to exit type, bye  ?\n",
            "Doc Bot:  It's estimated that chronic kidney disease affects about one in seven American adults.\n",
            "Doc Bot:  Whether you are looking for answers for yourself or for someone you love, we're here to give you the best information available.\n",
            "Bye\n",
            "Doc Bot: Bye Bye See you later!\n"
          ]
        }
      ],
      "source": [
        "#Start Chat\n",
        "print(\"Doc Bot: I am DOc bot and I will answer your queries about chronic kidney disease, if you want to exit type, bye  ?\")\n",
        "\n",
        "exit_list=['exit','bye','see you later','quit', 'Thank you!', 'Sayonara!']\n",
        "\n",
        "while(True):\n",
        "    user_input=input()\n",
        "    if user_input.lower() in exit_list:\n",
        "        print('Doc Bot: Bye Bye See you later!')\n",
        "        break\n",
        "    else:\n",
        "        if greeting_response(user_input)!= None:\n",
        "            print('Doc Bot: '+ greeting_response(user_input))\n",
        "        else:\n",
        "            print('Doc Bot: '+ bot_response(user_input))"
      ]
    },
    {
      "cell_type": "markdown",
      "metadata": {
        "id": "WavLomgtHxRI"
      },
      "source": [
        "Doc Bot ganti dengan ini atau sesuai dengan topik yang lagi di bahas, print(\"Doc Bot: Mau nanya apa kamu tentang kabel laut?\")"
      ]
    },
    {
      "cell_type": "code",
      "execution_count": null,
      "metadata": {
        "id": "WWdOizj-CRGp"
      },
      "outputs": [],
      "source": [
        "#buat pertanyaan pada kolom diatas seperti : what is chronic kidney disease?, dll."
      ]
    },
    {
      "cell_type": "markdown",
      "metadata": {
        "id": "zJ5gxzVCgftf"
      },
      "source": [
        "---\n",
        "# AI Chatbot Versi Bahasa **Indonesia**\n",
        "# Proses 1 (Making Corpus with Download an Article)"
      ]
    },
    {
      "cell_type": "code",
      "execution_count": null,
      "metadata": {
        "id": "FYT3-ERtgjjS",
        "colab": {
          "base_uri": "https://localhost:8080/"
        },
        "outputId": "72df2bb9-d68c-40c3-f70e-ecdac849d045"
      },
      "outputs": [
        {
          "output_type": "stream",
          "name": "stdout",
          "text": [
            "Pengertian Coronavirus\n",
            "\n",
            "Coronavirus atau disebut juga dengan virus corona merupakan keluarga besar virus yang mengakibatkan terjadinya infeksi saluran pernapasan atas ringan hingga sedang, seperti penyakit flu. Banyak orang terinfeksi virus ini, setidaknya satu kali dalam hidupnya.\n",
            "\n",
            "Namun, beberapa jenis virus corona juga bisa menimbulkan penyakit yang lebih serius, seperti:\n",
            "\n",
            "Middle East Respiratory Syndrome (MERS-CoV).\n",
            "\n",
            "Severe Acute Respiratory Syndrome (SARS-CoV).\n",
            "\n",
            "Pneumonia.\n",
            "\n",
            "SARS yang muncul pada November 2002 silam di Tiongkok menyebar ke beberapa negara lain. Mulai dari Hongkong, Vietnam, Singapura, Indonesia, Malaysia, Inggris, Italia, Swedia, Swiss, Rusia, hingga Amerika Serikat. Epidemi SARS yang berakhir hingga pertengahan 2003 itu telah menjangkiti sebanyak 8.098 orang di berbagai negara. Setidaknya sekitar 774 orang mesti kehilangan nyawa akibat penyakit infeksi saluran pernapasan berat tersebut.\n",
            "\n",
            "Sampai saat ini, terdapat tujuh jenis coronavirus (HCoVs) yang telah diidentifikasi, yaitu:\n",
            "\n",
            "HCoV-229E.\n",
            "\n",
            "HCoV-OC43.\n",
            "\n",
            "HCoV-NL63.\n",
            "\n",
            "HCoV-HKU1.\n",
            "\n",
            "SARS-COV (yang menyebabkan sindrom pernapasan akut).\n",
            "\n",
            "MERS-COV (sindrom pernapasan Timur Tengah).\n",
            "\n",
            "COVID-19 atau dikenal juga dengan Novel Coronavirus (menjadi penyebab wabah pneumonia di kota Wuhan, Tiongkok pada Desember 2019 dan menyebar ke negara lainnya mulai Januari 2020. Indonesia sendiri mengumumkan adanya kasus covid 19 dari Maret 2020 lalu).\n",
            "\n",
            "Jenis-Jenis Varian (Mutasi) Virus Corona\n",
            "\n",
            "Sejak awal kemunculannya, virus corona telah bermutasi menjadi berbagai varian. Hal ini karena pada dasarnya virus dapat bereplikasi dan membuat dirinya menjadi banyak.\n",
            "\n",
            "Ketika melakukan hal ini, virus corona mengubah “gen”-nya sedikit. Inilah yang disebut mutasi virus. Mutasi dari virus disebut variasi atau varian dari virus yang asli\n",
            "\n",
            "Hingga artikel ini ditulis, berikut beberapa varian atau mutasi dari virus corona yang telah menyebar:\n",
            "\n",
            "1. Varian Alfa\n",
            "\n",
            "Varian Alfa pertama kali ditemukan pada September 2020 di Inggris, dan dikenal dengan kode varian B. 1.1.7. Tingkat penularan varian virus ini adalah 43-90 persen lebih tinggi dari virus sebelumnya.\n",
            "\n",
            "Beberapa gejala yang umum dialami oleh orang yang terinfeksi virus corona varian Alfa adalah:\n",
            "\n",
            "Sesak napas.\n",
            "\n",
            "Nyeri dada.\n",
            "\n",
            "Hilangnya indera perasa dan penciuman.\n",
            "\n",
            "2. Varian Beta\n",
            "\n",
            "Varian Beta adalah mutasi virus corona yang pertama kali ditemukan pada Oktober 2020 di Afrika Selatan. Varian dengan kode B. 1.351 ini diketahui 50 persen lebih mudah menular dari varian sebelumnya.\n",
            "\n",
            "Gejala infeksi varian Beta sama seperti gejala pada varian Alfa dan infeksi COVID-19 secara umum.\n",
            "\n",
            "3. Varian Delta\n",
            "\n",
            "Sempat menjadi penyebab gelombang kedua di berbagai negara, varian Delta pertama kali ditemukan pada Oktober 2020 di India. Varian ini juga disebut dengan kode B.1.617.2.\n",
            "\n",
            "Tingkat penularan varian virus ini 30–100 persen lebih mudah menular dari varian Alfa. Selain itu, varian ini juga dapat menular lebih cepat dan berpotensi tinggi menyebabkan gejala yang parah.\n",
            "\n",
            "Gejala infeksi varian delta dapat muncul dalam 3-4 hari setelah terinfeksi. Berikut beberapa gejala yang umum dialami:\n",
            "\n",
            "Sakit kepala.\n",
            "\n",
            "Sakit tenggorokan.\n",
            "\n",
            "Pilek.\n",
            "\n",
            "Batuk.\n",
            "\n",
            "Sesak napas.\n",
            "\n",
            "Sakit kepala.\n",
            "\n",
            "Kelelahan.\n",
            "\n",
            "Kehilangan indera perasa atau penciuman.\n",
            "\n",
            "4. Varian Gamma\n",
            "\n",
            "Pertama kali ditemukan di Brazil dan Jepang pada November 2020, varian Gamma dikenal dengan kode P. 1. Gejala umum yang ditimbulkan infeksi varian virus ini sama seperti varian lain, yaitu sesak napas, sakit kepala, sakit tenggorokan, batuk dan pilek.\n",
            "\n",
            "5. Varian Epsilon\n",
            "\n",
            "Varian Epsilon atau B.1.427/B.1.429 adalah mutasi virus corona yang pertama kali ditemukan di California, Amerika Serikat. Pada 19 Maret 2021, Centers for Disease Control and Prevention (CDC) memasukkan varian ini sebagai variant of concern (VOC) karena sempat menyebabkan peningkatan kasus di beberapa wilayah.\n",
            "\n",
            "Gejala dari infeksi varian ini mirip seperti varian lain, yaitu:\n",
            "\n",
            "Sesak napas.\n",
            "\n",
            "Sakit kepala.\n",
            "\n",
            "Sakit tenggorokan.\n",
            "\n",
            "Batuk.\n",
            "\n",
            "Pilek.\n",
            "\n",
            "6. Varian Lambda\n",
            "\n",
            "Varian Lambda atau C. 37 pertama kali ditemukan di Peru dan beberapa negara di Amerika pada Desember 2020.\n",
            "\n",
            "Hingga saat ini, belum diketahui tingkat penularan dan keparahan infeksi akibat varian ini. Namun, tingkat penularan varian ini diketahui tidak berbeda jauh dengan virus corona jenis pertama.\n",
            "\n",
            "7. Varian Zeta\n",
            "\n",
            "Varian Zeta adalah mutasi virus corona yang pertama kali ditemukan di Brazil, dengan kore P. 2. Varian ini disebut sama seperti varian Gamma, termasuk dari segi gejala.\n",
            "\n",
            "8. Varian Eta\n",
            "\n",
            "Varian Eta pertama kali teridentifikasi di Inggris pada Desember 2020. Varian yang disebut B.1525 ini membawa mutasi E484-K seperti yang ditemukan di varian Gamma, Beta, dan Zeta.\n",
            "\n",
            "Gejala dari infeksi varian ini sama seperti gejala COVID-19 secara umum. Namun, hingga saat ini, WHO masih menetapkan varian Eta sebagai Variant of Interest (VOI), karena tidak menjadi kekhawatiran seperti varian lain.\n",
            "\n",
            "9. Varian Theta\n",
            "\n",
            "Pertama ditemukan di Filipina pada Maret 2021, varian Theta dikenal juga dengan kode P. 3. Hingga kini belum banyak informasi mengenai tingkat penularan dan keparahan infeksi akibat varian ini.\n",
            "\n",
            "Namun, varian Theta disebut-sebut lebih cepat menular dibanding varian sebelumnya. Dari segi gejala, secara umum sama seperti varian lainnya.\n",
            "\n",
            "10. Varian Iota\n",
            "\n",
            "Varian Iota pertama kali ditemukan pada November 2020 di New York, Amerika Serikat. Hingga kini, belum diketahui apakah varian dengan kode B.1.526 ini memiliki tingkat penularan dan keparahan infeksi yang lebih tinggi dari varian lain.\n",
            "\n",
            "11. Varian Mu\n",
            "\n",
            "Varian Mu pertama kali diidentifikasi di Kolombia pada Januari 2021, lalu secara ilmiah disebut dengan kode B.1.621. Hingga saat ini WHO masih mengklasifikasikan varian Mu sebagai VOI.\n",
            "\n",
            "Sebab, varian ini diketahui belum menimbulkan kekhawatiran seperti pada varian Alpha dan Delta. Gejala umum infeksi varian Mu mirip seperti varian lainnya, yaitu demam, batuk, dan hilangnya indra perasa serta penciuman.\n",
            "\n",
            "12. Varian Kappa\n",
            "\n",
            "Sama seperti varian Delta, varian Kappa juga pertama kali ditemukan di India pada Desember 2020. Varian dengan kode B.1.617.1 ini masih diklasifikasikan sebagai VOI, sama seperti varian Lambda, Eta, dan Iota.\n",
            "\n",
            "Hal ini karena belum ada data untuk memastikan tingkat penularan, keparahan infeksi, dan jenis gejala yang ditimbulkan oleh COVID-19 varian Kappa ini.\n",
            "\n",
            "13. Varian Omicron\n",
            "\n",
            "Varian Omicron pertama kali dilaporkan ke WHO pada 24 November 2021, dari Afrika Selatan. Varian dengan kode B.1.1.529 ini diklasifikasikan sebagai VOC, karena memiliki karakter yang perlu diwaspadai seperti varian Delta, Gamma, Beta, dan Alpha.\n",
            "\n",
            "Varian Omicron diketahui memiliki sekitar 30 kombinasi mutasi dari sejumlah varian virus corona sebelumnya, seperti C.12, Beta dan Delta. Ini membuat varian Omicron berpotensi lebih cepat menular dibanding varian Delta dan memungkinkan terjadinya reinfeksi atau infeksi berulang.\n",
            "\n",
            "Beberapa gejala umum dari infeksi varian Omicron adalah:\n",
            "\n",
            "Pilek.\n",
            "\n",
            "Sakit kepala.\n",
            "\n",
            "Kelelahan ringan hingga parah.\n",
            "\n",
            "Bersin-bersin.\n",
            "\n",
            "Sakit tenggorokan.\n",
            "\n",
            "Selain berbagai varian virus tadi, ada juga kondisi lain yang perlu diwaspadai, yaitu flurona.\n",
            "\n",
            "Flurona adalah koinfeksi atau infeksi ganda yang terjadi ketika seseorang terinfeksi virus corona dan virus flu secara bersamaan. Gejala yang ditimbulkan mirip seperti gejala infeksi COVID-19 pada umumnya.\n",
            "\n",
            "Pada kasus yang ringan dan sedang, gejala yang dapat muncul adalah:\n",
            "\n",
            "Demam.\n",
            "\n",
            "Batuk.\n",
            "\n",
            "Kelelahan.\n",
            "\n",
            "Diare.\n",
            "\n",
            "Pilek.\n",
            "\n",
            "Mual dan muntah.\n",
            "\n",
            "Sakit kepala.\n",
            "\n",
            "Sakit tenggorokan.\n",
            "\n",
            "Hilangnya kemampuan indra penciuman dan perasa.\n",
            "\n",
            "Beberapa orang juga dapat mengalami gejala berat akibat flurona. Misalnya sesak napas, nyeri dada, sulit bicara, penurunan kesadaran, serta wajah, bibir, dan kuku tampak kebiruan atau pucat.\n",
            "\n",
            "Faktor Risiko Infeksi Coronavirus\n",
            "\n",
            "Siapa saja dapat terinfeksi virus corona. Akan tetapi, bayi dan anak kecil serta orang dengan kekebalan tubuh yang lemah lebih rentan terhadap serangan virus ini. Selain itu, kondisi musim juga mungkin berpengaruh. Contohnya, di Amerika Serikat, infeksi virus corona lebih umum terjadi pada musim gugur dan musim dingin.\n",
            "\n",
            "Lalu, seseorang yang tinggal atau berkunjung ke daerah atau negara yang rawan virus corona juga berisiko terserang penyakit ini. Misalnya, berkunjung ke Tiongkok, khususnya kota Wuhan, yang pernah menjadi wabah COVID-19 yang bermulai pada Desember 2019.\n",
            "\n",
            "Penyebab Infeksi Coronavirus\n",
            "\n",
            "Infeksi coronavirus disebabkan oleh virus corona itu sendiri. Kebanyakan virus corona menyebar seperti virus lain pada umumnya, melalui:\n",
            "\n",
            "Percikan air liur pengidap (batuk dan bersin).\n",
            "\n",
            "Menyentuh tangan atau wajah orang yang terinfeksi.\n",
            "\n",
            "Menyentuh mata, hidung, atau mulut setelah memegang barang yang terkena percikan air liur pengidap virus corona.\n",
            "\n",
            "Tinja atau feses (jarang terjadi),\n",
            "\n",
            "Khusus untuk COVID-19, masa inkubasi belum diketahui secara pasti. Namun, rata-rata gejala timbul antara 2–14 hari setelah virus pertama masuk ke dalam tubuh. Sementara itu, metode transmisi COVID-19 juga belum diketahui dengan pasti. Awalnya, virus corona jenis COVID-19 diduga bersumber dari hewan. Virus corona COVID-19 merupakan virus yang beredar pada beberapa hewan, termasuk unta, kucing, dan kelelawar.\n",
            "\n",
            "Sebenarnya, virus ini jarang sekali berevolusi dan menginfeksi manusia atau menyebar ke individu lainnya. Namun, kasus di Tiongkok kini menjadi bukti nyata kalau virus ini bisa menyebar dari hewan ke manusia. Bahkan, kini penularannya bisa dari manusia ke manusia.\n",
            "\n",
            "Gejala Infeksi Coronavirus\n",
            "\n",
            "Virus corona bisa menimbulkan beragam gejala pada pengidapnya. Gejala yang muncul ini bergantung pada jenis virus yang menyerang dan seberapa serius infeksi yang terjadi. Berikut ini beberapa ciri-ciri awal corona:\n",
            "\n",
            "Hidung beringus.\n",
            "\n",
            "Sakit kepala.\n",
            "\n",
            "Batuk.\n",
            "\n",
            "Sakit tenggorokan.\n",
            "\n",
            "Demam.\n",
            "\n",
            "Merasa tidak enak badan.\n",
            "\n",
            "Hilangnya kemampuan indera perasa dan penciuman.\n",
            "\n",
            "Hal yang perlu ditegaskan, beberapa virus corona dapat menyebabkan gejala yang parah. Infeksinya dapat berubah menjadi bronkitis dan pneumonia (disebabkan oleh COVID-19), yang mengakibatkan gejala seperti:\n",
            "\n",
            "Demam yang mungkin cukup tinggi bila pengidap mengidap pneumonia.\n",
            "\n",
            "Batuk dengan lendir.\n",
            "\n",
            "Sesak napas.\n",
            "\n",
            "Nyeri dada atau sesak saat bernapas dan batuk.\n",
            "\n",
            "Infeksi bisa semakin parah bila menyerang kelompok individu tertentu. Contohnya, orang dengan penyakit jantung atau paru-paru, orang dengan sistem kekebalan yang lemah, bayi, dan lansia.\n",
            "\n",
            "Beberapa pengidap COVID-19 juga mengalami gejala yang sebenarnya bersifat ringan. Jadi, selalu waspada jika mengalami gejala yang tidak biasa pada tubuh.\n",
            "\n",
            "Diagnosis Infeksi Coronavirus\n",
            "\n",
            "Untuk mendiagnosis infeksi virus corona, dokter akan mengawali dengan anamnesis atau wawancara medis. Dokter akan menanyakan gejala atau keluhan yang dialami. Selain itu, dokter juga akan melakukan pemeriksaan fisik dan pemeriksaan darah untuk membantu menegakkan diagnosis.\n",
            "\n",
            "Dokter mungkin juga akan melakukan tes dahak, mengambil sampel dari tenggorokan, atau spesimen pernapasan lainnya. Sementara itu, untuk kasus yang diduga infeksi novel coronavirus, dokter akan melakukan swab tenggorokan, DPL, fungsi hepar, fungsi ginjal, dan PCT/CRP.\n",
            "\n",
            "Komplikasi Infeksi Coronavirus\n",
            "\n",
            "Virus corona yang menyebabkan penyakit SARS bisa menimbulkan komplikasi pneumonia dan masalah pernapasan parah lainnya bila tak ditangani dengan cepat dan tepat. Selain itu, SARS juga bisa menyebabkan kegagalan pernapasan, gagal jantung, hati, dan kematian.\n",
            "\n",
            "Hampir sama dengan SARS, novel coronavirus juga bisa menimbulkan komplikasi yang serius. Infeksi virus ini bisa menyebabkan pneumonia, sindrom pernapasan akut, gagal ginjal, bahkan kematian.\n",
            "\n",
            "Pengobatan Infeksi Coronavirus\n",
            "\n",
            "Tak ada perawatan khusus untuk mengatasi infeksi virus corona. Umumnya, pengidap akan pulih dengan sendirinya. Namun, ada beberapa upaya yang bisa dilakukan untuk meredakan gejala infeksi virus corona. Contohnya:\n",
            "\n",
            "Minum obat yang dijual bebas untuk mengurangi rasa sakit, demam, dan batuk. Namun, jangan berikan aspirin pada anak-anak. Selain itu, jangan berikan obat batuk pada anak di bawah empat tahun.\n",
            "\n",
            "Gunakan pelembap ruangan atau mandi air panas untuk membantu meredakan sakit tenggorokan dan batuk.\n",
            "\n",
            "Perbanyak istirahat.\n",
            "\n",
            "Perbanyak asupan cairan tubuh.\n",
            "\n",
            "Jika merasa khawatir dengan gejala yang dialami, segeralah hubungi penyedia layanan kesehatan terdekat.\n",
            "\n",
            "Khusus untuk virus corona yang menyebabkan penyakit serius, seperti SARS, MERS, atau infeksi COVID-19, penanganannya akan disesuaikan dengan penyakit yang diidap dan kondisi pasien.\n",
            "\n",
            "Bila pasien mengidap infeksi novel coronavirus, dokter akan merujuk ke RS Rujukan yang telah ditunjuk oleh Dinkes (Dinas Kesehatan) setempat. Bila tidak bisa dirujuk karena beberapa alasan, dokter akan melakukan:\n",
            "\n",
            "Isolasi;\n",
            "\n",
            "Serial foto toraks sesuai indikasi;\n",
            "\n",
            "Terapi simptomatik;\n",
            "\n",
            "Terapi cairan;\n",
            "\n",
            "Ventilator mekanik (bila gagal napas);\n",
            "\n",
            "Bila ada disertai infeksi bakteri, dapat diberikan antibiotik.\n",
            "\n",
            "Pencegahan Infeksi Coronavirus\n",
            "\n",
            "Satu-satunya tindakan yang bisa dilakukan untuk mencegah infeksi virus corona adalah melalui vaksinasi. Selain itu, beberapa cara berikut ini bisa dilakukan guna mengurangi risiko terjangkit virus tersebut:\n",
            "\n",
            "Sering-seringlah mencuci tangan dengan sabun dan air selama 20 detik hingga bersih.\n",
            "\n",
            "Hindari menyentuh wajah, hidung, atau mulut saat tangan dalam keadaan kotor atau belum dicuci.\n",
            "\n",
            "Hindari kontak langsung atau berdekatan dengan orang yang sakit.\n",
            "\n",
            "Hindari menyentuh hewan atau unggas liar.\n",
            "\n",
            "Membersihkan dan mensterilkan permukaan benda yang sering digunakan.\n",
            "\n",
            "Tutup hidung dan mulut ketika bersin atau batuk dengan tisu. Kemudian, buanglah tisu dan cuci tangan hingga bersih.\n",
            "\n",
            "Jangan keluar rumah dalam keadaan sakit.\n",
            "\n",
            "Kenakan masker dan segera berobat ke fasilitas kesehatan ketika mengalami gejala penyakit saluran napas.\n",
            "\n",
            "Konsumsi vitamin untuk meningkatkan daya tahan tubuh.\n",
            "\n",
            "Kapan Harus ke Dokter?\n",
            "\n",
            "Jika gejala-gejala infeksi virus corona atau COVID-19 tak kunjung membaik dalam hitungan hari atau semakin memburuk, segeralah tanyakan pada dokter di Halodoc untuk mendapatkan penanganan yang tepat. Diagnosis dan penanganan yang cepat dan tepat, bisa meningkatkan peluang kesembuhan infeksi virus tersebut.\n",
            "\n",
            "Download aplikasi Halodoc untuk memudahkan kamu membuat janji berobat di rumah sakit terdekat, membeli vitamin dan produk kesehatan, serta melakukan pemeriksaan swab antigen atau PCR.\n",
            "\n",
            "Referensi:\n",
            "\n",
            "Centers for Disease Control and Prevention (CDC). Diakses pada 2021. 2019 Novel Coronavirus (2019-nCoV), Wuhan, China.\n",
            "\n",
            "Centers for Disease Control and Prevention (CDC). Diakses pada 2021. Frequently Asked Questions About SARS.\n",
            "\n",
            "IDI – Siaran Pers Ikatan Dokter Indonesia. Diakses pada 2021. Outbreak Pneumonia Virus Wuhan.\n",
            "\n",
            "Medscape. Diakses pada 2021. What is the role of coronavirus in the etiology of viral pneumonia?\n",
            "\n",
            "US National Library of Medicine National Institutes of Health – Medlineplus. Diakses pada 2021. Coronavirus Infections\n",
            "\n",
            "Web MD. Diakses pada 2021. Coronavirus.\n",
            "\n",
            "WHO. Diakses pada 2021. Coronavirus\n",
            "\n",
            "CDC. Diakses pada 2022. SARS-CoV-2 Variant Classifications and Definitions.\n",
            "\n",
            "World Health Organization. Diakses pada 2022. Tracking SARS-CoV-2 Variants.\n",
            "\n",
            "Johns Hopkins Medicine. Diakses pada 2022. New Variants of Coronavirus: What You Should Know.\n",
            "\n",
            "Mayo Clinic. Diakses pada 2022. COVID-19 Variants: What’s The Concern?\n",
            "\n",
            "WebMD. Diakses pada 2022. The COVID-19 Delta Variant: What to Know.\n",
            "\n",
            "WHO. Diakses pada 2022. Classification of Omicron (B.1.1.529): SARS-CoV-2 Variant of Concern.\n",
            "\n",
            "WHO. Diakses pada 2022. Update on Omicron.\n",
            "\n",
            "Frontiers in Medicine. Diakses pada 2022.COVID-19 and Influenza Co-infection: A Systematic Review and Meta-Analysis.\n",
            "\n",
            "Healthline. Diakses pada 2022. What Is ‘Flurona,’ and How Serious Can It Be?\n",
            "\n",
            "Diperbarui pada 24 Januari 2022.\n"
          ]
        }
      ],
      "source": [
        "article = Article('https://www.halodoc.com/kesehatan/coronavirus')\n",
        "article.download()\n",
        "article.parse()\n",
        "article.nlp()\n",
        "corpus = article.text\n",
        "print(corpus)"
      ]
    },
    {
      "cell_type": "markdown",
      "metadata": {
        "id": "6KQ3Or6fiKxv"
      },
      "source": [
        "# Proses 2 (Tokenization)"
      ]
    },
    {
      "cell_type": "code",
      "execution_count": null,
      "metadata": {
        "id": "qsID-u6Gg012",
        "colab": {
          "base_uri": "https://localhost:8080/"
        },
        "outputId": "b1ab7f07-1772-490a-b4cd-8b2c1e504787"
      },
      "outputs": [
        {
          "output_type": "stream",
          "name": "stdout",
          "text": [
            "['Pengertian Coronavirus\\n\\nCoronavirus atau disebut juga dengan virus corona merupakan keluarga besar virus yang mengakibatkan terjadinya infeksi saluran pernapasan atas ringan hingga sedang, seperti penyakit flu.', 'Banyak orang terinfeksi virus ini, setidaknya satu kali dalam hidupnya.', 'Namun, beberapa jenis virus corona juga bisa menimbulkan penyakit yang lebih serius, seperti:\\n\\nMiddle East Respiratory Syndrome (MERS-CoV).', 'Severe Acute Respiratory Syndrome (SARS-CoV).', 'Pneumonia.', 'SARS yang muncul pada November 2002 silam di Tiongkok menyebar ke beberapa negara lain.', 'Mulai dari Hongkong, Vietnam, Singapura, Indonesia, Malaysia, Inggris, Italia, Swedia, Swiss, Rusia, hingga Amerika Serikat.', 'Epidemi SARS yang berakhir hingga pertengahan 2003 itu telah menjangkiti sebanyak 8.098 orang di berbagai negara.', 'Setidaknya sekitar 774 orang mesti kehilangan nyawa akibat penyakit infeksi saluran pernapasan berat tersebut.', 'Sampai saat ini, terdapat tujuh jenis coronavirus (HCoVs) yang telah diidentifikasi, yaitu:\\n\\nHCoV-229E.', 'HCoV-OC43.', 'HCoV-NL63.', 'HCoV-HKU1.', 'SARS-COV (yang menyebabkan sindrom pernapasan akut).', 'MERS-COV (sindrom pernapasan Timur Tengah).', 'COVID-19 atau dikenal juga dengan Novel Coronavirus (menjadi penyebab wabah pneumonia di kota Wuhan, Tiongkok pada Desember 2019 dan menyebar ke negara lainnya mulai Januari 2020.', 'Indonesia sendiri mengumumkan adanya kasus covid 19 dari Maret 2020 lalu).', 'Jenis-Jenis Varian (Mutasi) Virus Corona\\n\\nSejak awal kemunculannya, virus corona telah bermutasi menjadi berbagai varian.', 'Hal ini karena pada dasarnya virus dapat bereplikasi dan membuat dirinya menjadi banyak.', 'Ketika melakukan hal ini, virus corona mengubah “gen”-nya sedikit.', 'Inilah yang disebut mutasi virus.', 'Mutasi dari virus disebut variasi atau varian dari virus yang asli\\n\\nHingga artikel ini ditulis, berikut beberapa varian atau mutasi dari virus corona yang telah menyebar:\\n\\n1.', 'Varian Alfa\\n\\nVarian Alfa pertama kali ditemukan pada September 2020 di Inggris, dan dikenal dengan kode varian B.', '1.1.7.', 'Tingkat penularan varian virus ini adalah 43-90 persen lebih tinggi dari virus sebelumnya.', 'Beberapa gejala yang umum dialami oleh orang yang terinfeksi virus corona varian Alfa adalah:\\n\\nSesak napas.', 'Nyeri dada.', 'Hilangnya indera perasa dan penciuman.', '2.', 'Varian Beta\\n\\nVarian Beta adalah mutasi virus corona yang pertama kali ditemukan pada Oktober 2020 di Afrika Selatan.', 'Varian dengan kode B.', '1.351 ini diketahui 50 persen lebih mudah menular dari varian sebelumnya.', 'Gejala infeksi varian Beta sama seperti gejala pada varian Alfa dan infeksi COVID-19 secara umum.', '3.', 'Varian Delta\\n\\nSempat menjadi penyebab gelombang kedua di berbagai negara, varian Delta pertama kali ditemukan pada Oktober 2020 di India.', 'Varian ini juga disebut dengan kode B.1.617.2.', 'Tingkat penularan varian virus ini 30–100 persen lebih mudah menular dari varian Alfa.', 'Selain itu, varian ini juga dapat menular lebih cepat dan berpotensi tinggi menyebabkan gejala yang parah.', 'Gejala infeksi varian delta dapat muncul dalam 3-4 hari setelah terinfeksi.', 'Berikut beberapa gejala yang umum dialami:\\n\\nSakit kepala.', 'Sakit tenggorokan.', 'Pilek.', 'Batuk.', 'Sesak napas.', 'Sakit kepala.', 'Kelelahan.', 'Kehilangan indera perasa atau penciuman.', '4.', 'Varian Gamma\\n\\nPertama kali ditemukan di Brazil dan Jepang pada November 2020, varian Gamma dikenal dengan kode P. 1.', 'Gejala umum yang ditimbulkan infeksi varian virus ini sama seperti varian lain, yaitu sesak napas, sakit kepala, sakit tenggorokan, batuk dan pilek.', '5.', 'Varian Epsilon\\n\\nVarian Epsilon atau B.1.427/B.1.429 adalah mutasi virus corona yang pertama kali ditemukan di California, Amerika Serikat.', 'Pada 19 Maret 2021, Centers for Disease Control and Prevention (CDC) memasukkan varian ini sebagai variant of concern (VOC) karena sempat menyebabkan peningkatan kasus di beberapa wilayah.', 'Gejala dari infeksi varian ini mirip seperti varian lain, yaitu:\\n\\nSesak napas.', 'Sakit kepala.', 'Sakit tenggorokan.', 'Batuk.', 'Pilek.', '6.', 'Varian Lambda\\n\\nVarian Lambda atau C. 37 pertama kali ditemukan di Peru dan beberapa negara di Amerika pada Desember 2020.', 'Hingga saat ini, belum diketahui tingkat penularan dan keparahan infeksi akibat varian ini.', 'Namun, tingkat penularan varian ini diketahui tidak berbeda jauh dengan virus corona jenis pertama.', '7.', 'Varian Zeta\\n\\nVarian Zeta adalah mutasi virus corona yang pertama kali ditemukan di Brazil, dengan kore P. 2.', 'Varian ini disebut sama seperti varian Gamma, termasuk dari segi gejala.', '8.', 'Varian Eta\\n\\nVarian Eta pertama kali teridentifikasi di Inggris pada Desember 2020.', 'Varian yang disebut B.1525 ini membawa mutasi E484-K seperti yang ditemukan di varian Gamma, Beta, dan Zeta.', 'Gejala dari infeksi varian ini sama seperti gejala COVID-19 secara umum.', 'Namun, hingga saat ini, WHO masih menetapkan varian Eta sebagai Variant of Interest (VOI), karena tidak menjadi kekhawatiran seperti varian lain.', '9.', 'Varian Theta\\n\\nPertama ditemukan di Filipina pada Maret 2021, varian Theta dikenal juga dengan kode P. 3.', 'Hingga kini belum banyak informasi mengenai tingkat penularan dan keparahan infeksi akibat varian ini.', 'Namun, varian Theta disebut-sebut lebih cepat menular dibanding varian sebelumnya.', 'Dari segi gejala, secara umum sama seperti varian lainnya.', '10.', 'Varian Iota\\n\\nVarian Iota pertama kali ditemukan pada November 2020 di New York, Amerika Serikat.', 'Hingga kini, belum diketahui apakah varian dengan kode B.1.526 ini memiliki tingkat penularan dan keparahan infeksi yang lebih tinggi dari varian lain.', '11.', 'Varian Mu\\n\\nVarian Mu pertama kali diidentifikasi di Kolombia pada Januari 2021, lalu secara ilmiah disebut dengan kode B.1.621.', 'Hingga saat ini WHO masih mengklasifikasikan varian Mu sebagai VOI.', 'Sebab, varian ini diketahui belum menimbulkan kekhawatiran seperti pada varian Alpha dan Delta.', 'Gejala umum infeksi varian Mu mirip seperti varian lainnya, yaitu demam, batuk, dan hilangnya indra perasa serta penciuman.', '12.', 'Varian Kappa\\n\\nSama seperti varian Delta, varian Kappa juga pertama kali ditemukan di India pada Desember 2020.', 'Varian dengan kode B.1.617.1 ini masih diklasifikasikan sebagai VOI, sama seperti varian Lambda, Eta, dan Iota.', 'Hal ini karena belum ada data untuk memastikan tingkat penularan, keparahan infeksi, dan jenis gejala yang ditimbulkan oleh COVID-19 varian Kappa ini.', '13.', 'Varian Omicron\\n\\nVarian Omicron pertama kali dilaporkan ke WHO pada 24 November 2021, dari Afrika Selatan.', 'Varian dengan kode B.1.1.529 ini diklasifikasikan sebagai VOC, karena memiliki karakter yang perlu diwaspadai seperti varian Delta, Gamma, Beta, dan Alpha.', 'Varian Omicron diketahui memiliki sekitar 30 kombinasi mutasi dari sejumlah varian virus corona sebelumnya, seperti C.12, Beta dan Delta.', 'Ini membuat varian Omicron berpotensi lebih cepat menular dibanding varian Delta dan memungkinkan terjadinya reinfeksi atau infeksi berulang.', 'Beberapa gejala umum dari infeksi varian Omicron adalah:\\n\\nPilek.', 'Sakit kepala.', 'Kelelahan ringan hingga parah.', 'Bersin-bersin.', 'Sakit tenggorokan.', 'Selain berbagai varian virus tadi, ada juga kondisi lain yang perlu diwaspadai, yaitu flurona.', 'Flurona adalah koinfeksi atau infeksi ganda yang terjadi ketika seseorang terinfeksi virus corona dan virus flu secara bersamaan.', 'Gejala yang ditimbulkan mirip seperti gejala infeksi COVID-19 pada umumnya.', 'Pada kasus yang ringan dan sedang, gejala yang dapat muncul adalah:\\n\\nDemam.', 'Batuk.', 'Kelelahan.', 'Diare.', 'Pilek.', 'Mual dan muntah.', 'Sakit kepala.', 'Sakit tenggorokan.', 'Hilangnya kemampuan indra penciuman dan perasa.', 'Beberapa orang juga dapat mengalami gejala berat akibat flurona.', 'Misalnya sesak napas, nyeri dada, sulit bicara, penurunan kesadaran, serta wajah, bibir, dan kuku tampak kebiruan atau pucat.', 'Faktor Risiko Infeksi Coronavirus\\n\\nSiapa saja dapat terinfeksi virus corona.', 'Akan tetapi, bayi dan anak kecil serta orang dengan kekebalan tubuh yang lemah lebih rentan terhadap serangan virus ini.', 'Selain itu, kondisi musim juga mungkin berpengaruh.', 'Contohnya, di Amerika Serikat, infeksi virus corona lebih umum terjadi pada musim gugur dan musim dingin.', 'Lalu, seseorang yang tinggal atau berkunjung ke daerah atau negara yang rawan virus corona juga berisiko terserang penyakit ini.', 'Misalnya, berkunjung ke Tiongkok, khususnya kota Wuhan, yang pernah menjadi wabah COVID-19 yang bermulai pada Desember 2019.', 'Penyebab Infeksi Coronavirus\\n\\nInfeksi coronavirus disebabkan oleh virus corona itu sendiri.', 'Kebanyakan virus corona menyebar seperti virus lain pada umumnya, melalui:\\n\\nPercikan air liur pengidap (batuk dan bersin).', 'Menyentuh tangan atau wajah orang yang terinfeksi.', 'Menyentuh mata, hidung, atau mulut setelah memegang barang yang terkena percikan air liur pengidap virus corona.', 'Tinja atau feses (jarang terjadi),\\n\\nKhusus untuk COVID-19, masa inkubasi belum diketahui secara pasti.', 'Namun, rata-rata gejala timbul antara 2–14 hari setelah virus pertama masuk ke dalam tubuh.', 'Sementara itu, metode transmisi COVID-19 juga belum diketahui dengan pasti.', 'Awalnya, virus corona jenis COVID-19 diduga bersumber dari hewan.', 'Virus corona COVID-19 merupakan virus yang beredar pada beberapa hewan, termasuk unta, kucing, dan kelelawar.', 'Sebenarnya, virus ini jarang sekali berevolusi dan menginfeksi manusia atau menyebar ke individu lainnya.', 'Namun, kasus di Tiongkok kini menjadi bukti nyata kalau virus ini bisa menyebar dari hewan ke manusia.', 'Bahkan, kini penularannya bisa dari manusia ke manusia.', 'Gejala Infeksi Coronavirus\\n\\nVirus corona bisa menimbulkan beragam gejala pada pengidapnya.', 'Gejala yang muncul ini bergantung pada jenis virus yang menyerang dan seberapa serius infeksi yang terjadi.', 'Berikut ini beberapa ciri-ciri awal corona:\\n\\nHidung beringus.', 'Sakit kepala.', 'Batuk.', 'Sakit tenggorokan.', 'Demam.', 'Merasa tidak enak badan.', 'Hilangnya kemampuan indera perasa dan penciuman.', 'Hal yang perlu ditegaskan, beberapa virus corona dapat menyebabkan gejala yang parah.', 'Infeksinya dapat berubah menjadi bronkitis dan pneumonia (disebabkan oleh COVID-19), yang mengakibatkan gejala seperti:\\n\\nDemam yang mungkin cukup tinggi bila pengidap mengidap pneumonia.', 'Batuk dengan lendir.', 'Sesak napas.', 'Nyeri dada atau sesak saat bernapas dan batuk.', 'Infeksi bisa semakin parah bila menyerang kelompok individu tertentu.', 'Contohnya, orang dengan penyakit jantung atau paru-paru, orang dengan sistem kekebalan yang lemah, bayi, dan lansia.', 'Beberapa pengidap COVID-19 juga mengalami gejala yang sebenarnya bersifat ringan.', 'Jadi, selalu waspada jika mengalami gejala yang tidak biasa pada tubuh.', 'Diagnosis Infeksi Coronavirus\\n\\nUntuk mendiagnosis infeksi virus corona, dokter akan mengawali dengan anamnesis atau wawancara medis.', 'Dokter akan menanyakan gejala atau keluhan yang dialami.', 'Selain itu, dokter juga akan melakukan pemeriksaan fisik dan pemeriksaan darah untuk membantu menegakkan diagnosis.', 'Dokter mungkin juga akan melakukan tes dahak, mengambil sampel dari tenggorokan, atau spesimen pernapasan lainnya.', 'Sementara itu, untuk kasus yang diduga infeksi novel coronavirus, dokter akan melakukan swab tenggorokan, DPL, fungsi hepar, fungsi ginjal, dan PCT/CRP.', 'Komplikasi Infeksi Coronavirus\\n\\nVirus corona yang menyebabkan penyakit SARS bisa menimbulkan komplikasi pneumonia dan masalah pernapasan parah lainnya bila tak ditangani dengan cepat dan tepat.', 'Selain itu, SARS juga bisa menyebabkan kegagalan pernapasan, gagal jantung, hati, dan kematian.', 'Hampir sama dengan SARS, novel coronavirus juga bisa menimbulkan komplikasi yang serius.', 'Infeksi virus ini bisa menyebabkan pneumonia, sindrom pernapasan akut, gagal ginjal, bahkan kematian.', 'Pengobatan Infeksi Coronavirus\\n\\nTak ada perawatan khusus untuk mengatasi infeksi virus corona.', 'Umumnya, pengidap akan pulih dengan sendirinya.', 'Namun, ada beberapa upaya yang bisa dilakukan untuk meredakan gejala infeksi virus corona.', 'Contohnya:\\n\\nMinum obat yang dijual bebas untuk mengurangi rasa sakit, demam, dan batuk.', 'Namun, jangan berikan aspirin pada anak-anak.', 'Selain itu, jangan berikan obat batuk pada anak di bawah empat tahun.', 'Gunakan pelembap ruangan atau mandi air panas untuk membantu meredakan sakit tenggorokan dan batuk.', 'Perbanyak istirahat.', 'Perbanyak asupan cairan tubuh.', 'Jika merasa khawatir dengan gejala yang dialami, segeralah hubungi penyedia layanan kesehatan terdekat.', 'Khusus untuk virus corona yang menyebabkan penyakit serius, seperti SARS, MERS, atau infeksi COVID-19, penanganannya akan disesuaikan dengan penyakit yang diidap dan kondisi pasien.', 'Bila pasien mengidap infeksi novel coronavirus, dokter akan merujuk ke RS Rujukan yang telah ditunjuk oleh Dinkes (Dinas Kesehatan) setempat.', 'Bila tidak bisa dirujuk karena beberapa alasan, dokter akan melakukan:\\n\\nIsolasi;\\n\\nSerial foto toraks sesuai indikasi;\\n\\nTerapi simptomatik;\\n\\nTerapi cairan;\\n\\nVentilator mekanik (bila gagal napas);\\n\\nBila ada disertai infeksi bakteri, dapat diberikan antibiotik.', 'Pencegahan Infeksi Coronavirus\\n\\nSatu-satunya tindakan yang bisa dilakukan untuk mencegah infeksi virus corona adalah melalui vaksinasi.', 'Selain itu, beberapa cara berikut ini bisa dilakukan guna mengurangi risiko terjangkit virus tersebut:\\n\\nSering-seringlah mencuci tangan dengan sabun dan air selama 20 detik hingga bersih.', 'Hindari menyentuh wajah, hidung, atau mulut saat tangan dalam keadaan kotor atau belum dicuci.', 'Hindari kontak langsung atau berdekatan dengan orang yang sakit.', 'Hindari menyentuh hewan atau unggas liar.', 'Membersihkan dan mensterilkan permukaan benda yang sering digunakan.', 'Tutup hidung dan mulut ketika bersin atau batuk dengan tisu.', 'Kemudian, buanglah tisu dan cuci tangan hingga bersih.', 'Jangan keluar rumah dalam keadaan sakit.', 'Kenakan masker dan segera berobat ke fasilitas kesehatan ketika mengalami gejala penyakit saluran napas.', 'Konsumsi vitamin untuk meningkatkan daya tahan tubuh.', 'Kapan Harus ke Dokter?', 'Jika gejala-gejala infeksi virus corona atau COVID-19 tak kunjung membaik dalam hitungan hari atau semakin memburuk, segeralah tanyakan pada dokter di Halodoc untuk mendapatkan penanganan yang tepat.', 'Diagnosis dan penanganan yang cepat dan tepat, bisa meningkatkan peluang kesembuhan infeksi virus tersebut.', 'Download aplikasi Halodoc untuk memudahkan kamu membuat janji berobat di rumah sakit terdekat, membeli vitamin dan produk kesehatan, serta melakukan pemeriksaan swab antigen atau PCR.', 'Referensi:\\n\\nCenters for Disease Control and Prevention (CDC).', 'Diakses pada 2021.', '2019 Novel Coronavirus (2019-nCoV), Wuhan, China.', 'Centers for Disease Control and Prevention (CDC).', 'Diakses pada 2021.', 'Frequently Asked Questions About SARS.', 'IDI – Siaran Pers Ikatan Dokter Indonesia.', 'Diakses pada 2021.', 'Outbreak Pneumonia Virus Wuhan.', 'Medscape.', 'Diakses pada 2021.', 'What is the role of coronavirus in the etiology of viral pneumonia?', 'US National Library of Medicine National Institutes of Health – Medlineplus.', 'Diakses pada 2021.', 'Coronavirus Infections\\n\\nWeb MD.', 'Diakses pada 2021.', 'Coronavirus.', 'WHO.', 'Diakses pada 2021.', 'Coronavirus\\n\\nCDC.', 'Diakses pada 2022.', 'SARS-CoV-2 Variant Classifications and Definitions.', 'World Health Organization.', 'Diakses pada 2022.', 'Tracking SARS-CoV-2 Variants.', 'Johns Hopkins Medicine.', 'Diakses pada 2022.', 'New Variants of Coronavirus: What You Should Know.', 'Mayo Clinic.', 'Diakses pada 2022.', 'COVID-19 Variants: What’s The Concern?', 'WebMD.', 'Diakses pada 2022.', 'The COVID-19 Delta Variant: What to Know.', 'WHO.', 'Diakses pada 2022.', 'Classification of Omicron (B.1.1.529): SARS-CoV-2 Variant of Concern.', 'WHO.', 'Diakses pada 2022.', 'Update on Omicron.', 'Frontiers in Medicine.', 'Diakses pada 2022.COVID-19 and Influenza Co-infection: A Systematic Review and Meta-Analysis.', 'Healthline.', 'Diakses pada 2022.', 'What Is ‘Flurona,’ and How Serious Can It Be?', 'Diperbarui pada 24 Januari 2022.']\n"
          ]
        }
      ],
      "source": [
        "# Tokenization\n",
        "text = corpus\n",
        "sentence_list = nltk.sent_tokenize(text) #A list of senetences\n",
        "\n",
        "# Print the list of sentences\n",
        "print(sentence_list)"
      ]
    },
    {
      "cell_type": "code",
      "execution_count": null,
      "metadata": {
        "id": "lYvkaKOHiia2"
      },
      "outputs": [],
      "source": [
        "#a function to return a random greeting response to a users greeting\n",
        "def greeting_response(text):\n",
        "    text = text.lower()\n",
        "    \n",
        "    #Bots greeting respone\n",
        "    bot_greetings = ['halo','hai','yuhuu','*eyebrows up*', 'ok']\n",
        "    \n",
        "    #Users greeting\n",
        "    user_greetings = ['Haloo','Eh iyaa Haii','Hai','greetings','wassup', 'Halo', 'sepada']\n",
        "    \n",
        "    for word in text.split():\n",
        "        if word in user_greetings:\n",
        "            return random.choice(bot_greetings)\n",
        "        \n",
        "    #Random response to greeting\n",
        "    def gratitude_response(text):\n",
        "        text=text.lower()"
      ]
    },
    {
      "cell_type": "code",
      "execution_count": null,
      "metadata": {
        "id": "TZU6BZB3iia7"
      },
      "outputs": [],
      "source": [
        "def index_sort(list_var):\n",
        "    length = len(list_var)\n",
        "    list_index = list(range(0, length))\n",
        "    \n",
        "    x = list_var        \n",
        "    for i in range(length):\n",
        "        for j in range(length):\n",
        "            if x[list_index[i]] > x[list_index[j]]:\n",
        "                #swap\n",
        "                temp = list_index[i]\n",
        "                list_index[i] = list_index[j]\n",
        "                list_index[j] = temp\n",
        "                \n",
        "    return list_index"
      ]
    },
    {
      "cell_type": "markdown",
      "source": [
        "# Membuat Respon Bot Dengan Menggunakan Algoritma Cosine Similarity"
      ],
      "metadata": {
        "id": "I7FUHkmEWRFf"
      }
    },
    {
      "cell_type": "code",
      "execution_count": null,
      "metadata": {
        "id": "jgD-wmTwiia7"
      },
      "outputs": [],
      "source": [
        "# Create Bots Response\n",
        "def bot_response(user_input):\n",
        "    user_input=user_input.lower()\n",
        "    sentence_list.append(user_input)\n",
        "    bot_response= ''\n",
        "    cm=CountVectorizer().fit_transform(sentence_list)\n",
        "    similarity_scores=cosine_similarity(cm[-1],cm)\n",
        "    similarity_scores_list=similarity_scores.flatten()\n",
        "    index=index_sort(similarity_scores_list)\n",
        "    index=index[1:]\n",
        "    response_flag=0\n",
        "    \n",
        "    j=0\n",
        "    for i in range(len(index)):\n",
        "        if similarity_scores_list[index[i]]>0.0:\n",
        "            bot_response=bot_response+' '+sentence_list[index[i]]\n",
        "            response_flag=1\n",
        "            j=j+1\n",
        "        if j>2:\n",
        "            break\n",
        "\n",
        "        if response_flag==0:\n",
        "            bot_response=bot_response+\" \" + \"Maaf, saya tidak mengerti apa yang anda katakan\"\n",
        "\n",
        "        sentence_list.remove(user_input) \n",
        "\n",
        "        return bot_response"
      ]
    },
    {
      "cell_type": "markdown",
      "metadata": {
        "id": "PVF_g7Xyiia8"
      },
      "source": [
        "# Proses 4 (End Process, Making chat box)"
      ]
    },
    {
      "cell_type": "code",
      "execution_count": null,
      "metadata": {
        "id": "knRbg2R0iia8",
        "colab": {
          "base_uri": "https://localhost:8080/"
        },
        "outputId": "18f7aad8-69de-4722-a546-cc3e62da0a23"
      },
      "outputs": [
        {
          "output_type": "stream",
          "name": "stdout",
          "text": [
            "Doc Bot: Halo! Selamat datang! Mau tanya apa kamu tentang kabel laut?\n",
            "Bye\n",
            "Doc Bot: Bye!, Sampai jumpa lagi!\n"
          ]
        }
      ],
      "source": [
        "#Start Chat\n",
        "print(\"Doc Bot: Halo! Selamat datang! Mau tanya apa kamu tentang kabel laut?\")\n",
        "\n",
        "exit_list=['exit','bye','keluar','quit', 'sampai jumpa', 'selamat tinggal', 'terima kasih', 'sayonara']\n",
        "\n",
        "while(True):\n",
        "    user_input=input()\n",
        "    if user_input.lower() in exit_list:\n",
        "        print('Doc Bot: Bye!, Sampai jumpa lagi!')\n",
        "        break\n",
        "    else:\n",
        "        if greeting_response(user_input)!= None:\n",
        "            print('Doc Bot: '+ greeting_response(user_input))\n",
        "            \n",
        "        else:\n",
        "            print('Doc Bot: '+ bot_response(user_input))\n",
        "            tts = gTTS(bot_response(user_input), lang='id')\n",
        "            tts.save('/content/drive/MyDrive/Dataset/bot.wav')\n",
        "            time.sleep(0.08)\n",
        "            print(\"Kamu:\\n\")\n",
        "            ipd.display(ipd.Audio('/content/drive/MyDrive/Dataset/bot.wav', autoplay=True))\n",
        "            \n",
        "            print(\"=\"*60 + \"\\n\")"
      ]
    },
    {
      "cell_type": "code",
      "execution_count": null,
      "metadata": {
        "id": "H8psLH5Ji4ng"
      },
      "outputs": [],
      "source": [
        "#Coba berikan input kalimat berikut\n",
        "\n",
        "# kabel laut adalah\n",
        "# kabel laut untuk komunikasi internasional adalah"
      ]
    }
  ],
  "metadata": {
    "colab": {
      "provenance": []
    },
    "kernelspec": {
      "display_name": "Python 3",
      "language": "python",
      "name": "python3"
    },
    "language_info": {
      "codemirror_mode": {
        "name": "ipython",
        "version": 3
      },
      "file_extension": ".py",
      "mimetype": "text/x-python",
      "name": "python",
      "nbconvert_exporter": "python",
      "pygments_lexer": "ipython3",
      "version": "3.8.8"
    }
  },
  "nbformat": 4,
  "nbformat_minor": 0
}